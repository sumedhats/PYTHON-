{
 "cells": [
  {
   "cell_type": "markdown",
   "id": "7de08e9c",
   "metadata": {},
   "source": [
    "    DAY 16"
   ]
  },
  {
   "cell_type": "markdown",
   "id": "66b18de0",
   "metadata": {},
   "source": [
    "OBJECT ORIENTED PROGRAMMING"
   ]
  },
  {
   "cell_type": "markdown",
   "id": "f49bf333",
   "metadata": {},
   "source": [
    "attributes = variable\n",
    "methods = function"
   ]
  },
  {
   "cell_type": "code",
   "execution_count": 4,
   "id": "ecb5e6bd",
   "metadata": {},
   "outputs": [
    {
     "name": "stdout",
     "output_type": "stream",
     "text": [
      "<turtle.Turtle object at 0x107033690>\n",
      "300\n"
     ]
    }
   ],
   "source": [
    "from turtle import Turtle ,Screen\n",
    "viki = Turtle()\n",
    "print(viki)\n",
    "viki.shape(\"turtle\")\n",
    "my_screen = Screen()\n",
    "print(my_screen.canvheight)\n",
    "my_screen.exitonclick\n",
    "viki.color(\"red\")\n",
    "viki.forward(100)"
   ]
  },
  {
   "cell_type": "code",
   "execution_count": 5,
   "id": "dacfd475",
   "metadata": {},
   "outputs": [
    {
     "name": "stdout",
     "output_type": "stream",
     "text": [
      "+----------+---------+----------+-------+------+\n",
      "|  Topic   | Parents | Siblings | Music | Mine |\n",
      "+----------+---------+----------+-------+------+\n",
      "|   Love   |    80   |    70    |  100  | 100  |\n",
      "| Respect  |    90   |    90    |  100  | 100  |\n",
      "| Cuteness |    50   |    90    |  100  | 100  |\n",
      "+----------+---------+----------+-------+------+\n"
     ]
    }
   ],
   "source": [
    "from prettytable import PrettyTable\n",
    "sumi = PrettyTable()\n",
    "sumi.field_names = [\"Topic\", \"Parents\", \"Siblings\", \"Music\"]\n",
    "sumi.add_rows([[\"Love\", 80,70,100]])\n",
    "sumi.add_rows([[\"Respect\", 90,90 ,100]])\n",
    "sumi.add_rows([[\"Cuteness\", 50,90,100]])\n",
    "sumi.add_column(\"Mine\", [100,100,100])\n",
    "sumi.align = \"c\"\n",
    "print(sumi)"
   ]
  },
  {
   "cell_type": "code",
   "execution_count": null,
   "id": "d979b4d8",
   "metadata": {},
   "outputs": [],
   "source": []
  }
 ],
 "metadata": {
  "kernelspec": {
   "display_name": "Python 3",
   "language": "python",
   "name": "python3"
  },
  "language_info": {
   "codemirror_mode": {
    "name": "ipython",
    "version": 3
   },
   "file_extension": ".py",
   "mimetype": "text/x-python",
   "name": "python",
   "nbconvert_exporter": "python",
   "pygments_lexer": "ipython3",
   "version": "3.11.13"
  }
 },
 "nbformat": 4,
 "nbformat_minor": 5
}
