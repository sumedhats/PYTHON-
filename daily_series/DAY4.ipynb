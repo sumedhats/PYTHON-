{
  "cells": [
    {
      "cell_type": "markdown",
      "metadata": {
        "id": "view-in-github",
        "colab_type": "text"
      },
      "source": [
        "<a href=\"https://colab.research.google.com/github/sumedhats/PYTHON-/blob/main/DAY4.ipynb\" target=\"_parent\"><img src=\"https://colab.research.google.com/assets/colab-badge.svg\" alt=\"Open In Colab\"/></a>"
      ]
    },
    {
      "cell_type": "code",
      "metadata": {
        "colab": {
          "base_uri": "https://localhost:8080/"
        },
        "id": "8f9a9e1b",
        "outputId": "1c2a035c-0466-41d6-d9f0-252caf135684"
      },
      "source": [
        "%%writefile trial.py\n",
        "import random\n",
        "\n",
        "random_number = random.randint(1, 100)\n",
        "\n",
        "def greet(name):\n",
        "  return f\"Hello, {name}!\""
      ],
      "id": "8f9a9e1b",
      "execution_count": 1,
      "outputs": [
        {
          "output_type": "stream",
          "name": "stdout",
          "text": [
            "Writing trial.py\n"
          ]
        }
      ]
    },
    {
      "cell_type": "code",
      "metadata": {
        "colab": {
          "base_uri": "https://localhost:8080/"
        },
        "id": "622700e7",
        "outputId": "efbbcd0e-bde8-498f-b57a-e17312a766ec"
      },
      "source": [
        "import random\n",
        "random_number = random.randint(1, 100)\n",
        "def greet(name):\n",
        "  return f\"Hello, {name}!\"\n",
        "print(\"Random number:\", random_number)\n",
        "name = input(\"Enter your name: \")\n",
        "print(greet(name))"
      ],
      "id": "622700e7",
      "execution_count": 3,
      "outputs": [
        {
          "output_type": "stream",
          "name": "stdout",
          "text": [
            "Random number: 41\n",
            "Enter your name:  SUMEDHA\n",
            "Hello,  SUMEDHA!\n"
          ]
        }
      ]
    }
  ],
  "metadata": {
    "kernelspec": {
      "display_name": "base",
      "language": "python",
      "name": "python3"
    },
    "language_info": {
      "codemirror_mode": {
        "name": "ipython",
        "version": 3
      },
      "file_extension": ".py",
      "mimetype": "text/x-python",
      "name": "python",
      "nbconvert_exporter": "python",
      "pygments_lexer": "ipython3",
      "version": "3.12.7"
    },
    "colab": {
      "provenance": [],
      "include_colab_link": true
    }
  },
  "nbformat": 4,
  "nbformat_minor": 5
}