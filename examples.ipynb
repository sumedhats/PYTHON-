{
 "cells": [
  {
   "cell_type": "markdown",
   "id": "90f35b54",
   "metadata": {},
   "source": [
    "STRING TO LIST"
   ]
  },
  {
   "cell_type": "code",
   "execution_count": null,
   "id": "05003f27",
   "metadata": {},
   "outputs": [
    {
     "name": "stdout",
     "output_type": "stream",
     "text": [
      "['v', 'i', 'k', 'a', 's']\n"
     ]
    }
   ],
   "source": [
    "string = \"vikas\"\n",
    "char_list = list(string)\n",
    "print(char_list)"
   ]
  },
  {
   "cell_type": "markdown",
   "id": "25dfaef8",
   "metadata": {},
   "source": [
    "seperated by spaces"
   ]
  },
  {
   "cell_type": "code",
   "execution_count": 3,
   "id": "231c3b6f",
   "metadata": {},
   "outputs": [
    {
     "name": "stdout",
     "output_type": "stream",
     "text": [
      "['Unseen', 'Unheard', 'Unloved']\n"
     ]
    }
   ],
   "source": [
    "string = \"Unseen Unheard Unloved\"\n",
    "word_list = string.split()\n",
    "print(word_list)"
   ]
  },
  {
   "cell_type": "markdown",
   "id": "30403668",
   "metadata": {},
   "source": [
    "giving split info in detail"
   ]
  },
  {
   "cell_type": "code",
   "execution_count": 4,
   "id": "fa9cdfb6",
   "metadata": {},
   "outputs": [
    {
     "name": "stdout",
     "output_type": "stream",
     "text": [
      "['vikas', 'ravi', 'vinay', 'yashas', 'ram']\n"
     ]
    }
   ],
   "source": [
    "string = \"vikas,ravi,vinay,yashas,ram\"\n",
    "word_list = string.split(\",\")\n",
    "print(word_list)"
   ]
  },
  {
   "cell_type": "markdown",
   "id": "14bec60b",
   "metadata": {},
   "source": []
  },
  {
   "cell_type": "code",
   "execution_count": 6,
   "id": "69099719",
   "metadata": {},
   "outputs": [
    {
     "data": {
      "text/plain": [
       "'2'"
      ]
     },
     "execution_count": 6,
     "metadata": {},
     "output_type": "execute_result"
    }
   ],
   "source": [
    "str(2)"
   ]
  },
  {
   "cell_type": "code",
   "execution_count": null,
   "id": "f91b9399",
   "metadata": {},
   "outputs": [],
   "source": []
  }
 ],
 "metadata": {
  "kernelspec": {
   "display_name": "base",
   "language": "python",
   "name": "python3"
  },
  "language_info": {
   "codemirror_mode": {
    "name": "ipython",
    "version": 3
   },
   "file_extension": ".py",
   "mimetype": "text/x-python",
   "name": "python",
   "nbconvert_exporter": "python",
   "pygments_lexer": "ipython3",
   "version": "3.12.7"
  }
 },
 "nbformat": 4,
 "nbformat_minor": 5
}
