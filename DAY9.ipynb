{
  "nbformat": 4,
  "nbformat_minor": 0,
  "metadata": {
    "colab": {
      "provenance": [],
      "authorship_tag": "ABX9TyPO6sTgjucQSPUhN0xqjsZ6",
      "include_colab_link": true
    },
    "kernelspec": {
      "name": "python3",
      "display_name": "Python 3"
    },
    "language_info": {
      "name": "python"
    }
  },
  "cells": [
    {
      "cell_type": "markdown",
      "metadata": {
        "id": "view-in-github",
        "colab_type": "text"
      },
      "source": [
        "<a href=\"https://colab.research.google.com/github/sumedhats/PYTHON-/blob/main/DAY9.ipynb\" target=\"_parent\"><img src=\"https://colab.research.google.com/assets/colab-badge.svg\" alt=\"Open In Colab\"/></a>"
      ]
    },
    {
      "cell_type": "code",
      "execution_count": null,
      "metadata": {
        "colab": {
          "base_uri": "https://localhost:8080/"
        },
        "id": "3lOzwbFkqPUu",
        "outputId": "e314e64b-ce9c-4ad7-db63-8ac924df542f"
      },
      "outputs": [
        {
          "output_type": "stream",
          "name": "stdout",
          "text": [
            "vikas\n"
          ]
        }
      ],
      "source": [
        "names = {\"sumi\": \"sumedha\",\"chinni\": \"vikas\"}\n",
        "print(names[\"chinni\"])"
      ]
    },
    {
      "cell_type": "code",
      "source": [
        "names = {\"sumi\": \"sumedha\",\"chinni\": \"vikas\"}\n",
        "names[\"chinni\"] = \"gundu\"\n",
        "print(names[\"chinni\"])"
      ],
      "metadata": {
        "colab": {
          "base_uri": "https://localhost:8080/"
        },
        "id": "J8CUKxrFuwSl",
        "outputId": "6b102500-0309-479b-af7d-2e156b1604d4"
      },
      "execution_count": null,
      "outputs": [
        {
          "output_type": "stream",
          "name": "stdout",
          "text": [
            "gundu\n"
          ]
        }
      ]
    },
    {
      "cell_type": "code",
      "source": [
        "for thing in names:\n",
        "  print(thing)\n"
      ],
      "metadata": {
        "colab": {
          "base_uri": "https://localhost:8080/"
        },
        "id": "cJTLv-NsvDsg",
        "outputId": "f37e3c3f-95ef-480e-ef2f-9ba00414b2e9"
      },
      "execution_count": null,
      "outputs": [
        {
          "output_type": "stream",
          "name": "stdout",
          "text": [
            "sumi\n",
            "chinni\n"
          ]
        }
      ]
    },
    {
      "cell_type": "code",
      "source": [
        "for thing in names:\n",
        "  print(thing)\n",
        "print(names[\"sumi\"])"
      ],
      "metadata": {
        "colab": {
          "base_uri": "https://localhost:8080/"
        },
        "id": "rZwzPmCMvRtY",
        "outputId": "af171b87-a31e-4356-f582-2c466e976a1c"
      },
      "execution_count": null,
      "outputs": [
        {
          "output_type": "stream",
          "name": "stdout",
          "text": [
            "sumi\n",
            "chinni\n",
            "sumedha\n"
          ]
        }
      ]
    },
    {
      "cell_type": "code",
      "source": [
        "student_scores = {\n",
        "    'Harry': 88,\n",
        "    'Ron': 78,\n",
        "    'Hermione': 95,\n",
        "    'Draco': 75,\n",
        "    'Neville': 60\n",
        "}\n",
        "student_grades ={}\n",
        "for student in student_scores:\n",
        "    score = student_scores[student]\n",
        "    if score >= 91:\n",
        "        student_grades[student] = 'Outstanding'\n",
        "    elif score >= 81:\n",
        "        student_grades[student] = 'Exceeds Expectations'\n",
        "    elif score >= 71:\n",
        "        student_grades[student] = 'Acceptable'\n",
        "    else:\n",
        "        student_grades[student] = 'Fail'"
      ],
      "metadata": {
        "id": "k8-7uDjexBvS"
      },
      "execution_count": null,
      "outputs": []
    },
    {
      "cell_type": "code",
      "source": [
        "name = input(\"enter ur name\")\n",
        "price = int(input(\"enter ur price\"))\n",
        "bidding = {}\n",
        "bidding[name]= price\n",
        "should_continue = input(\"Are there any bidders?type yes or no\").lower()\n",
        "def find_highest_bidder(bidding_record):\n",
        "    highest_bid = 0\n",
        "    winner = \"\"\n",
        "    for bidder in bidding_record:\n",
        "        bid_amount = bidding_record[bidder]\n",
        "while should_continue == \"yes\":\n",
        "  name = input(\"enter ur name\")\n",
        "  price = int(input(\"enter ur price\"))\n",
        "  bidding[name]= price\n",
        "  should_continue = input(\"Are there any bidders?type yes or no\").lower()\n",
        "if should_continue == \"no\":\n",
        "    find_highest_bidder()"
      ],
      "metadata": {
        "id": "m2a2k69MxOyr",
        "colab": {
          "base_uri": "https://localhost:8080/"
        },
        "outputId": "80a07b6b-1685-4cff-cbbd-f4cca807312a"
      },
      "execution_count": 7,
      "outputs": [
        {
          "name": "stdout",
          "output_type": "stream",
          "text": [
            "enter ur name sumi \n",
            "enter ur price 100 \n",
            "Are there any bidders?type yes or no yes\n"
          ]
        }
      ]
    }
  ]
}