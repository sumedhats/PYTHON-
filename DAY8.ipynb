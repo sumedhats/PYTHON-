{
  "nbformat": 4,
  "nbformat_minor": 0,
  "metadata": {
    "colab": {
      "provenance": [],
      "authorship_tag": "ABX9TyOpQXcup+8AwJM0b+euGJIl",
      "include_colab_link": true
    },
    "kernelspec": {
      "name": "python3",
      "display_name": "Python 3"
    },
    "language_info": {
      "name": "python"
    }
  },
  "cells": [
    {
      "cell_type": "markdown",
      "metadata": {
        "id": "view-in-github",
        "colab_type": "text"
      },
      "source": [
        "<a href=\"https://colab.research.google.com/github/sumedhats/PYTHON-/blob/main/DAY8.ipynb\" target=\"_parent\"><img src=\"https://colab.research.google.com/assets/colab-badge.svg\" alt=\"Open In Colab\"/></a>"
      ]
    },
    {
      "cell_type": "code",
      "execution_count": null,
      "metadata": {
        "colab": {
          "base_uri": "https://localhost:8080/"
        },
        "id": "TYyllGl4G5HT",
        "outputId": "9bae4c2d-0735-43eb-bd7f-36c0020a0e86"
      },
      "outputs": [
        {
          "output_type": "stream",
          "name": "stdout",
          "text": [
            "Hello\n",
            "How do u do?\n",
            "How is the weather?\n",
            "Hello\n",
            "How do u do?\n",
            "How is the weather?\n"
          ]
        }
      ],
      "source": [
        "def greet():\n",
        "  print(\"Hello\")\n",
        "  print(\"How do u do?\")\n",
        "  print(\"How is the weather?\")\n",
        "greet()\n",
        "greet()\n",
        "\n"
      ]
    },
    {
      "cell_type": "code",
      "source": [
        "def greet(name):\n",
        "   print(f\"Hello {name}\")\n",
        "   print(f\"How do u do? {name}\")\n",
        "   print(f\"How is the weather {name}?\")\n",
        "greet(\"chinnu\")"
      ],
      "metadata": {
        "colab": {
          "base_uri": "https://localhost:8080/"
        },
        "id": "TBEODg8rJJxq",
        "outputId": "c60838f3-b9f7-49be-95a7-0512b184d141"
      },
      "execution_count": null,
      "outputs": [
        {
          "output_type": "stream",
          "name": "stdout",
          "text": [
            "Hello chinnu\n",
            "How do u do? chinnu\n",
            "How is the weather chinnu?\n"
          ]
        }
      ]
    },
    {
      "cell_type": "code",
      "source": [
        "def life_in_weeks(age):\n",
        "  weeks_u_lived = age * 52\n",
        "  weeks_remaining = 4620 - weeks_u_lived\n",
        "  print(f\"You have {weeks_remaining} weeks left\")\n",
        "life_in_weeks(19)\n"
      ],
      "metadata": {
        "colab": {
          "base_uri": "https://localhost:8080/"
        },
        "id": "5-HJ1UDyL89n",
        "outputId": "5098906b-7678-4d9d-e491-fb447969797c"
      },
      "execution_count": null,
      "outputs": [
        {
          "output_type": "stream",
          "name": "stdout",
          "text": [
            "You have 3632 weeks left\n"
          ]
        }
      ]
    },
    {
      "cell_type": "code",
      "source": [
        "def life_in_weeks(age):\n",
        "    years_remaining = 90 - age\n",
        "    weeks_left = years_remaining * 52\n",
        "    print(f\"You have {weeks_left} weeks left.\")\n",
        "life_in_weeks(19)"
      ],
      "metadata": {
        "colab": {
          "base_uri": "https://localhost:8080/"
        },
        "id": "5JmD93_qM2KT",
        "outputId": "6f727493-f90f-4acb-f276-54f5fd118a46"
      },
      "execution_count": null,
      "outputs": [
        {
          "output_type": "stream",
          "name": "stdout",
          "text": [
            "You have 3692 weeks left.\n"
          ]
        }
      ]
    },
    {
      "cell_type": "code",
      "source": [
        "def welcome(name,location):\n",
        "  print(f\"Hello {name}\")\n",
        "  print(f\"Welcome to {location}\")\n",
        "welcome(\"sumi\",\"Ladakh\")"
      ],
      "metadata": {
        "colab": {
          "base_uri": "https://localhost:8080/"
        },
        "id": "GxIMOMH2Ngr4",
        "outputId": "1b1560b5-83c7-41b5-fbd3-bbe98578536a"
      },
      "execution_count": null,
      "outputs": [
        {
          "output_type": "stream",
          "name": "stdout",
          "text": [
            "Hello sumi\n",
            "Welcome to Ladakh\n"
          ]
        }
      ]
    },
    {
      "cell_type": "code",
      "source": [
        "def welcome(name=\"sumi\",location=\"ladakh\"):\n",
        "  print(f\"Hello {name}\")\n",
        "  print(f\"Welcome to {location}\")\n",
        "welcome()"
      ],
      "metadata": {
        "colab": {
          "base_uri": "https://localhost:8080/"
        },
        "id": "IWbTLI96OJr3",
        "outputId": "f8215008-1595-45ee-c3e7-b6388e769ce7"
      },
      "execution_count": null,
      "outputs": [
        {
          "output_type": "stream",
          "name": "stdout",
          "text": [
            "Hello sumi\n",
            "Welcome to ladakh\n"
          ]
        }
      ]
    },
    {
      "cell_type": "code",
      "source": [
        "def calculate_love_score(name1, name2):\n",
        "    combined_names = name1 + name2\n",
        "    lower_names = combined_names.lower()\n",
        "\n",
        "    t = lower_names.count(\"t\")\n",
        "    r = lower_names.count(\"r\")\n",
        "    u = lower_names.count(\"u\")\n",
        "    e = lower_names.count(\"e\")\n",
        "    first_digit = t + r + u + e\n",
        "\n",
        "    l = lower_names.count(\"l\")\n",
        "    o = lower_names.count(\"o\")\n",
        "    v = lower_names.count(\"v\")\n",
        "    e = lower_names.count(\"e\")\n",
        "    second_digit = l + o + v + e\n",
        "\n",
        "\n",
        "    score = int(str(first_digit) + str(second_digit))\n",
        "    print(score)\n",
        "\n",
        "calculate_love_score(\"Kanye West\", \"Kim Kardashian\")\n"
      ],
      "metadata": {
        "colab": {
          "base_uri": "https://localhost:8080/"
        },
        "id": "4T57TSW_8dGR",
        "outputId": "c61709cd-c3e1-4c45-b3cf-fd8f37111412"
      },
      "execution_count": null,
      "outputs": [
        {
          "output_type": "stream",
          "name": "stdout",
          "text": [
            "42\n"
          ]
        }
      ]
    },
    {
      "cell_type": "code",
      "source": [
        "alpha = ['a', 'b', 'c', 'd', 'e', 'f', 'g', 'h', 'i', 'j', 'k', 'l', 'm', 'n', 'o', 'p', 'q', 'r', 's', 't', 'u', 'v', 'w', 'x', 'y', 'z']\n",
        "\n",
        "direction = input(\"Type 'encode' to encrypt, type 'decode' to decrypt:\\n\")\n",
        "text = input(\"Type your message:\\n\").lower()\n",
        "shift = int(input(\"Type the shift number:\\n\"))\n",
        "\n",
        "def encrypt(original_text, shift_amount):\n",
        "    c_text = \"\"\n",
        "    for letter in original_text:\n",
        "        if letter in alpha:\n",
        "            position = alpha.index(letter)\n",
        "            shift_position = (position + shift_amount) % len(alpha)\n",
        "            c_text += alpha[shift_position]\n",
        "        else:\n",
        "            c_text += letter # Keep characters not in the alphabet\n",
        "    print(f\"The encoded text is {c_text}\")\n",
        "\n",
        "def decrypt(original_text, shift_amount):\n",
        "    c_text = \"\"\n",
        "    for letter in original_text:\n",
        "        if letter in alpha:\n",
        "            position = alpha.index(letter)\n",
        "            shift_position = (position - shift_amount) % len(alpha)\n",
        "            c_text += alpha[shift_position]\n",
        "        else:\n",
        "            c_text += letter # Keep characters not in the alphabet\n",
        "    print(f\"The decoded text is {c_text}\")\n",
        "\n",
        "if direction == 'encode':\n",
        "    encrypt(original_text=text, shift_amount=shift)\n",
        "elif direction == 'decode':\n",
        "    decrypt(original_text=text, shift_amount=shift)\n",
        "else:\n",
        "    print(\"Invalid direction. Please type 'encode' or 'decode'.\")"
      ],
      "metadata": {
        "id": "5BsjRd9l8fJy",
        "colab": {
          "base_uri": "https://localhost:8080/"
        },
        "outputId": "3e33cf03-5881-45a3-d7c8-1ee31aab12f6"
      },
      "execution_count": 5,
      "outputs": [
        {
          "output_type": "stream",
          "name": "stdout",
          "text": [
            "Type 'encode' to encrypt, type 'decode' to decrypt:\n",
            "encode\n",
            "Type your message:\n",
            "hi ram\n",
            "Type the shift number:\n",
            "4\n",
            "The encoded text is lm veq\n"
          ]
        }
      ]
    },
    {
      "cell_type": "code",
      "source": [],
      "metadata": {
        "id": "1u2U9TMyovo7"
      },
      "execution_count": null,
      "outputs": []
    }
  ]
}