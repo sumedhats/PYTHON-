{
  "nbformat": 4,
  "nbformat_minor": 0,
  "metadata": {
    "colab": {
      "provenance": [],
      "authorship_tag": "ABX9TyPWDsuRO8v63RnsNF8hTaQW",
      "include_colab_link": true
    },
    "kernelspec": {
      "name": "python3",
      "display_name": "Python 3"
    },
    "language_info": {
      "name": "python"
    }
  },
  "cells": [
    {
      "cell_type": "markdown",
      "metadata": {
        "id": "view-in-github",
        "colab_type": "text"
      },
      "source": [
        "<a href=\"https://colab.research.google.com/github/sumedhats/PYTHON-/blob/main/DAY_10.ipynb\" target=\"_parent\"><img src=\"https://colab.research.google.com/assets/colab-badge.svg\" alt=\"Open In Colab\"/></a>"
      ]
    },
    {
      "cell_type": "code",
      "execution_count": 7,
      "metadata": {
        "colab": {
          "base_uri": "https://localhost:8080/"
        },
        "id": "P_Td1Fv96s7Y",
        "outputId": "9d5fdccf-e48f-4672-b88a-3e82dfd40c19"
      },
      "outputs": [
        {
          "output_type": "stream",
          "name": "stdout",
          "text": [
            "enter first name sumedha\n",
            "enter last name shivakumar\n",
            " Sumedha  Shivakumar\n"
          ]
        }
      ],
      "source": [
        "def title_case():\n",
        "  f_name = input(\"enter first name\").title()\n",
        "  l_name = input(\"enter last name\").title()\n",
        "  print(f_name,l_name)\n",
        "title_case()"
      ]
    },
    {
      "cell_type": "code",
      "source": [
        "def sumi(text=None):\n",
        "  if text is None:\n",
        "    text = input(\"text:\")\n",
        "  return text + text\n",
        "sumi(text=None)"
      ],
      "metadata": {
        "colab": {
          "base_uri": "https://localhost:8080/",
          "height": 52
        },
        "id": "Nt16IGVA8hqI",
        "outputId": "2e460f0f-fb1a-4fa9-e60d-0706024a99b2"
      },
      "execution_count": 23,
      "outputs": [
        {
          "name": "stdout",
          "output_type": "stream",
          "text": [
            "text: suvi\n"
          ]
        },
        {
          "output_type": "execute_result",
          "data": {
            "text/plain": [
              "' suvi suvi'"
            ],
            "application/vnd.google.colaboratory.intrinsic+json": {
              "type": "string"
            }
          },
          "metadata": {},
          "execution_count": 23
        }
      ]
    },
    {
      "cell_type": "code",
      "source": [
        "def title():\n",
        "  text = input(\"text:\")\n",
        "  return text.title()\n",
        "title()"
      ],
      "metadata": {
        "colab": {
          "base_uri": "https://localhost:8080/",
          "height": 52
        },
        "id": "MZFh0AXM-a44",
        "outputId": "8727a03d-4d46-42a4-fc64-7f8cb4d64158"
      },
      "execution_count": 14,
      "outputs": [
        {
          "name": "stdout",
          "output_type": "stream",
          "text": [
            "text: viki\n"
          ]
        },
        {
          "output_type": "execute_result",
          "data": {
            "text/plain": [
              "' Viki'"
            ],
            "application/vnd.google.colaboratory.intrinsic+json": {
              "type": "string"
            }
          },
          "metadata": {},
          "execution_count": 14
        }
      ]
    },
    {
      "cell_type": "code",
      "source": [
        "output = sumi(title())\n",
        "print(output)"
      ],
      "metadata": {
        "colab": {
          "base_uri": "https://localhost:8080/"
        },
        "id": "phcBcaTj-u0o",
        "outputId": "3c2f8aec-b914-41bc-eeca-30559ed927a8"
      },
      "execution_count": 24,
      "outputs": [
        {
          "output_type": "stream",
          "name": "stdout",
          "text": [
            "text:sumi\n",
            "SumiSumi\n"
          ]
        }
      ]
    },
    {
      "cell_type": "code",
      "source": [],
      "metadata": {
        "id": "oTOCqqNXCh5-"
      },
      "execution_count": 37,
      "outputs": []
    }
  ]
}