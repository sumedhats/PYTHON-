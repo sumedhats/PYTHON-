{
  "cells": [
    {
      "cell_type": "markdown",
      "metadata": {
        "id": "view-in-github",
        "colab_type": "text"
      },
      "source": [
        "<a href=\"https://colab.research.google.com/github/sumedhats/PYTHON-/blob/main/COFFEE_MAKING_MACHINE.ipynb\" target=\"_parent\"><img src=\"https://colab.research.google.com/assets/colab-badge.svg\" alt=\"Open In Colab\"/></a>"
      ]
    },
    {
      "cell_type": "code",
      "execution_count": null,
      "metadata": {
        "id": "fa6c4604",
        "colab": {
          "base_uri": "https://localhost:8080/"
        },
        "outputId": "7bc4aae7-4024-4bd1-efa5-e4071bf16d64"
      },
      "outputs": [
        {
          "output_type": "stream",
          "name": "stdout",
          "text": [
            "What would you like? (espresso/latte/cappuccino): espresso\n",
            "Insert coins.\n",
            "How many quarters? 8\n",
            "How many dimes? 8\n",
            "How many nickels? 8\n",
            "How many pennies? 8\n",
            "Here is your change: $1.78\n",
            "Here's your espresso. Enjoy!\n",
            "What would you like? (espresso/latte/cappuccino): latte\n",
            "Insert coins.\n",
            "How many quarters? 9\n",
            "How many dimes? 9\n",
            "How many nickels? 9\n",
            "How many pennies? 9\n",
            "Here is your change: $1.19\n",
            "Here's your latte. Enjoy!\n"
          ]
        }
      ],
      "source": [
        "class CoffeeMachine:\n",
        "    def __init__(self):\n",
        "        self.resources = {\n",
        "            \"water\": 300,\n",
        "            \"milk\": 200,\n",
        "            \"coffee\": 100,\n",
        "            \"money\": 0,\n",
        "        }\n",
        "        self.menu = {\n",
        "            \"espresso\": {\"ingredients\": {\"water\": 50, \"coffee\": 18}, \"cost\": 1.5},\n",
        "            \"latte\": {\"ingredients\": {\"water\": 200, \"milk\": 150, \"coffee\": 24}, \"cost\": 2.5},\n",
        "            \"cappuccino\": {\"ingredients\": {\"water\": 250, \"milk\": 100, \"coffee\": 24}, \"cost\": 3.0},\n",
        "        }\n",
        "\n",
        "    def report(self):\n",
        "        for resource, amount in self.resources.items():\n",
        "            print(f\"{resource.capitalize()}: {amount}\")\n",
        "\n",
        "    def check_resources(self, drink):\n",
        "        for item in self.menu[drink]['ingredients']:\n",
        "            if item not in self.resources or self.resources[item] < self.menu[drink]['ingredients'][item]:\n",
        "                print(f\"Sorry, there's not enough {item}.\")\n",
        "                return False\n",
        "        return True\n",
        "\n",
        "    def process_coins(self):\n",
        "        print(\"Insert coins.\")\n",
        "        try:\n",
        "            quarters = int(input(\"How many quarters? \")) * 0.25\n",
        "            dimes = int(input(\"How many dimes? \")) * 0.10\n",
        "            nickels = int(input(\"How many nickels? \")) * 0.05\n",
        "            pennies = int(input(\"How many pennies? \")) * 0.01\n",
        "            return quarters + dimes + nickels + pennies\n",
        "        except ValueError:\n",
        "            print(\"Invalid input. Please enter whole numbers for coins.\")\n",
        "            return 0\n",
        "\n",
        "    def make_coffee(self, drink):\n",
        "        for item in self.menu[drink]['ingredients']:\n",
        "            self.resources[item] -= self.menu[drink]['ingredients'][item]\n",
        "        self.resources['money'] += self.menu[drink]['cost']\n",
        "        print(f\"Here's your {drink}. Enjoy!\")\n",
        "\n",
        "    def run(self):\n",
        "        while True:\n",
        "            choice = input(\"What would you like? (espresso/latte/cappuccino): \").lower()\n",
        "            if choice == \"off\":\n",
        "                brea7k\n",
        "            elif choice == \"report\":\n",
        "                self.report()\n",
        "            elif choice in self.menu:\n",
        "                if self.check_resources(choice):\n",
        "                    payment = self.process_coins()\n",
        "                    if payment >= self.menu[choice]['cost']:\n",
        "                        change = payment - self.menu[choice]['cost']\n",
        "                        if change > 0:\n",
        "                            print(f\"Here is your change: ${change:.2f}\")\n",
        "                        self.make_coffee(choice)\n",
        "                    else:\n",
        "                        print(\"Sorry, that's not enough money. Money refunded.\")\n",
        "            else:\n",
        "                print(\"Invalid choice.\")\n",
        "\n",
        "coffee_machine = CoffeeMachine()\n",
        "coffee_machine.run()"
      ]
    }
  ],
  "metadata": {
    "colab": {
      "provenance": [],
      "authorship_tag": "ABX9TyOXTeoSGPLPSSU9oBRf5Jxt",
      "include_colab_link": true
    },
    "kernelspec": {
      "display_name": "Python 3",
      "name": "python3"
    },
    "language_info": {
      "name": "python"
    }
  },
  "nbformat": 4,
  "nbformat_minor": 0
}