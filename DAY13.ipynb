{
  "nbformat": 4,
  "nbformat_minor": 0,
  "metadata": {
    "colab": {
      "provenance": [],
      "authorship_tag": "ABX9TyP9m8cpSyx/qE/4aQDRJbis",
      "include_colab_link": true
    },
    "kernelspec": {
      "name": "python3",
      "display_name": "Python 3"
    },
    "language_info": {
      "name": "python"
    }
  },
  "cells": [
    {
      "cell_type": "markdown",
      "metadata": {
        "id": "view-in-github",
        "colab_type": "text"
      },
      "source": [
        "<a href=\"https://colab.research.google.com/github/sumedhats/PYTHON-/blob/main/DAY13.ipynb\" target=\"_parent\"><img src=\"https://colab.research.google.com/assets/colab-badge.svg\" alt=\"Open In Colab\"/></a>"
      ]
    },
    {
      "cell_type": "markdown",
      "source": [
        "QUESTION 1\n",
        "\n",
        "\n",
        " def odd_or_even(number):\n",
        "\n",
        "    if number % 2 = 0:\n",
        "        return \"This is an even number.\"\n",
        "    else:\n",
        "        return \"This is an odd number.\""
      ],
      "metadata": {
        "id": "K4GqcWRdeK7G"
      }
    },
    {
      "cell_type": "code",
      "source": [
        "def odd_or_even(number):\n",
        "    if number % 2 == 0:\n",
        "        return \"This is an even number.\"\n",
        "    else:\n",
        "        return \"This is an odd number.\""
      ],
      "metadata": {
        "id": "5OyHDt6CeM5m"
      },
      "execution_count": 1,
      "outputs": []
    },
    {
      "cell_type": "markdown",
      "source": [
        "QUESTION 2\n",
        "\n",
        "def is_leap(year):\n",
        "\n",
        "\n",
        "\n",
        "\n",
        "    if year % 4 == 0:\n",
        "        if year % 100 == 0:\n",
        "            if year % 4000 == 0:\n",
        "                return True\n",
        "            else:\n",
        "                return False\n",
        "        else:\n",
        "            return True\n",
        "    else:\n",
        "        return False"
      ],
      "metadata": {
        "id": "doEsaaj1g8u0"
      }
    },
    {
      "cell_type": "code",
      "source": [
        "\n",
        "def is_leap(year):\n",
        "    if year % 4 == 0:\n",
        "        if year % 100 == 0:\n",
        "            if year % 400 == 0:\n",
        "                return True\n",
        "            else:\n",
        "                return False\n",
        "        else:\n",
        "            return True\n",
        "    else:\n",
        "        return False"
      ],
      "metadata": {
        "id": "CXcfj_z-hksl"
      },
      "execution_count": 2,
      "outputs": []
    },
    {
      "cell_type": "markdown",
      "source": [
        "QUESTION 3\n",
        "\n",
        "def fizz_buzz(target):\n",
        "\n",
        "    for number in range(1, target + 1):\n",
        "        if number % 3 == 0 or number % 5 == 0:\n",
        "            print(\"FizzBuzz\")\n",
        "        if number % 3 == 0:\n",
        "            print(\"Fizz\")\n",
        "        if number % 5 == 0:\n",
        "            print(\"Buzz\")\n",
        "        else:\n",
        "            print(number)\n",
        "\n",
        "\n"
      ],
      "metadata": {
        "id": "_VIybOk6hoCs"
      }
    },
    {
      "cell_type": "code",
      "source": [
        "def fizz_buzz(target):\n",
        "    for number in range(1, target + 1):\n",
        "        if number % 3 == 0 and number % 5 == 0:\n",
        "            print(\"FizzBuzz\")\n",
        "        elif number % 3 == 0:\n",
        "            print(\"Fizz\")\n",
        "        elif number % 5 == 0:\n",
        "            print(\"Buzz\")\n",
        "        else:\n",
        "            print(number)\n"
      ],
      "metadata": {
        "id": "ZjDo4-y5h8Qp"
      },
      "execution_count": 3,
      "outputs": []
    }
  ]
}