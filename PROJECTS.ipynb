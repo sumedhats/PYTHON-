{
 "cells": [
  {
   "cell_type": "markdown",
   "id": "24e13450",
   "metadata": {},
   "source": [
    "PYTHON PROJECTS"
   ]
  },
  {
   "cell_type": "markdown",
   "id": "a95fc30a",
   "metadata": {},
   "source": [
    " PROJECT 1\n"
   ]
  },
  {
   "cell_type": "code",
   "execution_count": 3,
   "id": "19aaed2a",
   "metadata": {},
   "outputs": [
    {
     "name": "stdout",
     "output_type": "stream",
     "text": [
      "Welcome to the Band Name Generator\n",
      "Your band name could be BANG RAM\n"
     ]
    }
   ],
   "source": [
    "print(\"Welcome to the Band Name Generator\") \n",
    "city= input(\"what is the name of the city you grew up in? \\n\")\n",
    "pet= input(\"what is the name of your pet? \\n\")\n",
    "print(\"Your band name could be \" + city+ \" \" + pet)"
   ]
  },
  {
   "cell_type": "markdown",
   "id": "0701d2bd",
   "metadata": {},
   "source": [
    "PROJECT 2"
   ]
  },
  {
   "cell_type": "code",
   "execution_count": 4,
   "id": "78268986",
   "metadata": {},
   "outputs": [
    {
     "name": "stdout",
     "output_type": "stream",
     "text": [
      "Welcome to the tip calculator!\n",
      "Each person should pay: $110.0\n"
     ]
    }
   ],
   "source": [
    "print(\"Welcome to the tip calculator!\")\n",
    "\n",
    "try:\n",
    "    total_bill = float(input(\"What was the total bill? $\"))\n",
    "    tip_percentage = float(input(\"What percentage tip would you like to give? \"))\n",
    "    people_count = int(input(\"How many people to split the bill? \"))\n",
    "\n",
    "    tip_amount = total_bill * (tip_percentage / 100)\n",
    "    total_amount = total_bill + tip_amount\n",
    "    amount_per_person = round(total_amount / people_count, 2)\n",
    "\n",
    "    print(f\"Each person should pay: ${amount_per_person}\")\n",
    "except ValueError:\n",
    "    print(\"❌ Please enter only numbers.\")\n"
   ]
  },
  {
   "cell_type": "markdown",
   "id": "4546b3fc",
   "metadata": {},
   "source": [
    "PROJECT 3"
   ]
  },
  {
   "cell_type": "code",
   "execution_count": 5,
   "id": "f2166c8e",
   "metadata": {},
   "outputs": [
    {
     "name": "stdout",
     "output_type": "stream",
     "text": [
      "888                                                          \n",
      "888                                                          \n",
      "888                                                          \n",
      "888888888d888 .d88b.  8888b. .d8888b 888  888888d888 .d88b.  \n",
      "888   888P\"  d8P  Y8b    \"88b88K     888  888888P\"  d8P  Y8b \n",
      "888   888    88888888.d888888\"Y8888b.888  888888    88888888 \n",
      "Y88b. 888    Y8b.    888  888     X88Y88b 888888    Y8b.     \n",
      " \"Y888888     \"Y8888 \"Y888888 88888P' \"Y88888888     \"Y8888  \n",
      "Welcome to the treasure land. Your mission is to find the treasure.\n",
      "Better luck next time.\n"
     ]
    }
   ],
   "source": [
    "print('''888                                                          \n",
    "888                                                          \n",
    "888                                                          \n",
    "888888888d888 .d88b.  8888b. .d8888b 888  888888d888 .d88b.  \n",
    "888   888P\"  d8P  Y8b    \"88b88K     888  888888P\"  d8P  Y8b \n",
    "888   888    88888888.d888888\"Y8888b.888  888888    88888888 \n",
    "Y88b. 888    Y8b.    888  888     X88Y88b 888888    Y8b.     \n",
    " \"Y888888     \"Y8888 \"Y888888 88888P' \"Y88888888     \"Y8888  ''')\n",
    "\n",
    "print(\"Welcome to the treasure land. Your mission is to find the treasure.\")\n",
    "direction = input(\"You are at a crossroad. Where do you want to go? Type 'left' or 'right': \").lower()\n",
    "\n",
    "if direction == \"left\":\n",
    "    action = input(\"You chose left. Do you want to swim or wait? Type 'swim' or 'wait': \").lower()\n",
    "    if action == \"wait\":\n",
    "        door = input(\"Great! Now choose a door: red, blue, or yellow: \").lower()\n",
    "        if door == \"red\":\n",
    "            print(\"You got caught by a witch.\")\n",
    "        elif door == \"blue\":\n",
    "            print(\"You won!\")\n",
    "        elif door == \"yellow\":\n",
    "            print(\"You got caught by a wizard.\")\n",
    "        else:\n",
    "            print(\"Invalid choice.\")\n",
    "    elif action == \"swim\":\n",
    "        print(\"Better luck next time.\")\n",
    "    else:\n",
    "        print(\"Invalid choice.\")\n",
    "elif direction == \"right\":\n",
    "    print(\"Better luck next time.\")\n",
    "else:\n",
    "    print(\"Invalid choice.\")"
   ]
  },
  {
   "cell_type": "markdown",
   "id": "b3ca66b4",
   "metadata": {},
   "source": [
    "PROJECT 4"
   ]
  },
  {
   "cell_type": "code",
   "execution_count": 6,
   "id": "170e2154",
   "metadata": {},
   "outputs": [
    {
     "name": "stdout",
     "output_type": "stream",
     "text": [
      "GAME\n",
      "WELCOME TO ROCK PAPER SICSSOR GAME\n",
      "Computer chose: scissor\n",
      "You lose!\n"
     ]
    }
   ],
   "source": [
    "import random \n",
    "print(\"GAME\")\n",
    "print(\"WELCOME TO ROCK PAPER SICSSOR GAME\")\n",
    "choose = input(\"Enter your choice rock, paper, scissor\\n your choice : \")\n",
    "choices = [\"rock\", \"paper\", \"scissor\"]\n",
    "computer_choices = random.choice(choices)\n",
    "print(\"Computer chose:\", computer_choices)\n",
    "if choose == computer_choices:\n",
    "    print(\"It's a tie!\")\n",
    "elif (choose == \"rock\" and computer_choices == \"scissor\") or \\\n",
    "     (choose == \"paper\" and computer_choices == \"rock\") or \\\n",
    "     (choose == \"scissor\" and computer_choices == \"paper\"):\n",
    "    print(\"You win!\")\n",
    "else:\n",
    "    print(\"You lose!\")\n",
    "     \n",
    "\n"
   ]
  },
  {
   "cell_type": "markdown",
   "id": "f1f6aa72",
   "metadata": {},
   "source": [
    "PROJECT 5"
   ]
  },
  {
   "cell_type": "code",
   "execution_count": 7,
   "id": "dc485127",
   "metadata": {},
   "outputs": [
    {
     "name": "stdout",
     "output_type": "stream",
     "text": [
      "Your password is: E*0#9Ir6(\n"
     ]
    }
   ],
   "source": [
    "\n",
    "import random\n",
    "\n",
    "letters = \"abcdefghijklmnopqrstuvwxyzABCDEFGHIJKLMNOPQRSTUVWXYZ\"\n",
    "numbers = \"0123456789\"\n",
    "symbols = \"!@#$%^&*()\"\n",
    "\n",
    "nr_letters = int(input(\"How many letters would you like in your password?\\n\"))\n",
    "nr_numbers = int(input(\"How many numbers would you like in your password?\\n\"))\n",
    "nr_symbols = int(input(\"How many symbols would you like in your password?\\n\"))\n",
    "\n",
    "password = []\n",
    "\n",
    "for _ in range(nr_letters):\n",
    "    password.append(random.choice(letters))\n",
    "for _ in range(nr_numbers):\n",
    "    password.append(random.choice(numbers))\n",
    "for _ in range(nr_symbols):\n",
    "    password.append(random.choice(symbols))\n",
    "\n",
    "random.shuffle(password)\n",
    "final_password = ''.join(password)\n",
    "print(f\"Your password is: {final_password}\") \n",
    "\n"
   ]
  }
 ],
 "metadata": {
  "kernelspec": {
   "display_name": "base",
   "language": "python",
   "name": "python3"
  },
  "language_info": {
   "codemirror_mode": {
    "name": "ipython",
    "version": 3
   },
   "file_extension": ".py",
   "mimetype": "text/x-python",
   "name": "python",
   "nbconvert_exporter": "python",
   "pygments_lexer": "ipython3",
   "version": "3.12.7"
  }
 },
 "nbformat": 4,
 "nbformat_minor": 5
}
