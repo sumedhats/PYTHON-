{
  "cells": [
    {
      "cell_type": "markdown",
      "metadata": {
        "id": "view-in-github",
        "colab_type": "text"
      },
      "source": [
        "<a href=\"https://colab.research.google.com/github/sumedhats/PYTHON-/blob/main/PROJECTS.ipynb\" target=\"_parent\"><img src=\"https://colab.research.google.com/assets/colab-badge.svg\" alt=\"Open In Colab\"/></a>"
      ]
    },
    {
      "cell_type": "markdown",
      "id": "24e13450",
      "metadata": {
        "id": "24e13450"
      },
      "source": [
        "PYTHON PROJECTS"
      ]
    },
    {
      "cell_type": "markdown",
      "id": "a95fc30a",
      "metadata": {
        "id": "a95fc30a"
      },
      "source": [
        " PROJECT 1 : BRAND GENERATOR\n"
      ]
    },
    {
      "cell_type": "code",
      "execution_count": null,
      "id": "19aaed2a",
      "metadata": {
        "id": "19aaed2a",
        "outputId": "54e341dd-9b0f-41f7-e2e2-22a492d32d18"
      },
      "outputs": [
        {
          "name": "stdout",
          "output_type": "stream",
          "text": [
            "Welcome to the Band Name Generator\n",
            "Your band name could be BANG RAM\n"
          ]
        }
      ],
      "source": [
        "print(\"Welcome to the Brand Name Generator\")\n",
        "city= input(\"what is the name of the city you grew up in? \\n\")\n",
        "pet= input(\"what is the name of your pet? \\n\")\n",
        "print(\"Your band name could be \" + city+ \" \" + pet)"
      ]
    },
    {
      "cell_type": "markdown",
      "id": "0701d2bd",
      "metadata": {
        "id": "0701d2bd"
      },
      "source": [
        "PROJECT 2: TIP CALCULATOR\n"
      ]
    },
    {
      "cell_type": "code",
      "execution_count": 5,
      "id": "78268986",
      "metadata": {
        "colab": {
          "base_uri": "https://localhost:8080/"
        },
        "id": "78268986",
        "outputId": "58dc77d1-f973-45a9-82a3-e0c6a1ff4deb"
      },
      "outputs": [
        {
          "output_type": "stream",
          "name": "stdout",
          "text": [
            "Welcome to the tip calculator!\n",
            "What was the total bill? $ 200\n",
            "What percentage tip would you like to give? 12\n",
            "How many people to split the bill? 3\n",
            "Each person should pay: $74.67\n"
          ]
        }
      ],
      "source": [
        "print(\"Welcome to the tip calculator!\")\n",
        "total_bill = float(input(\"What was the total bill? $\"))\n",
        "tip_percentage = float(input(\"What percentage tip would you like to give? \"))\n",
        "people_count = int(input(\"How many people to split the bill? \"))\n",
        "tip_amount = total_bill * (tip_percentage / 100)\n",
        "total_amount = total_bill + tip_amount\n",
        "amount_per_person = round(total_amount / people_count, 2)\n",
        "print(f\"Each person should pay: ${amount_per_person}\")"
      ]
    },
    {
      "cell_type": "markdown",
      "id": "4546b3fc",
      "metadata": {
        "id": "4546b3fc"
      },
      "source": [
        "PROJECT 3:TRESURE HUNT"
      ]
    },
    {
      "cell_type": "code",
      "execution_count": null,
      "id": "f2166c8e",
      "metadata": {
        "id": "f2166c8e",
        "outputId": "425fee53-f96b-4952-d6e0-8a6d5f1552c5"
      },
      "outputs": [
        {
          "name": "stdout",
          "output_type": "stream",
          "text": [
            "888                                                          \n",
            "888                                                          \n",
            "888                                                          \n",
            "888888888d888 .d88b.  8888b. .d8888b 888  888888d888 .d88b.  \n",
            "888   888P\"  d8P  Y8b    \"88b88K     888  888888P\"  d8P  Y8b \n",
            "888   888    88888888.d888888\"Y8888b.888  888888    88888888 \n",
            "Y88b. 888    Y8b.    888  888     X88Y88b 888888    Y8b.     \n",
            " \"Y888888     \"Y8888 \"Y888888 88888P' \"Y88888888     \"Y8888  \n",
            "Welcome to the treasure land. Your mission is to find the treasure.\n",
            "Better luck next time.\n"
          ]
        }
      ],
      "source": [
        "print('''888\n",
        "888\n",
        "888\n",
        "888888888d888 .d88b.  8888b. .d8888b 888  888888d888 .d88b.\n",
        "888   888P\"  d8P  Y8b    \"88b88K     888  888888P\"  d8P  Y8b\n",
        "888   888    88888888.d888888\"Y8888b.888  888888    88888888\n",
        "Y88b. 888    Y8b.    888  888     X88Y88b 888888    Y8b.\n",
        " \"Y888888     \"Y8888 \"Y888888 88888P' \"Y88888888     \"Y8888  ''')\n",
        "\n",
        "print(\"Welcome to the treasure land. Your mission is to find the treasure.\")\n",
        "direction = input(\"You are at a crossroad. Where do you want to go? Type 'left' or 'right': \").lower()\n",
        "\n",
        "if direction == \"left\":\n",
        "    action = input(\"You chose left. Do you want to swim or wait? Type 'swim' or 'wait': \").lower()\n",
        "    if action == \"wait\":\n",
        "        door = input(\"Great! Now choose a door: red, blue, or yellow: \").lower()\n",
        "        if door == \"red\":\n",
        "            print(\"You got caught by a witch.\")\n",
        "        elif door == \"blue\":\n",
        "            print(\"You won!\")\n",
        "        elif door == \"yellow\":\n",
        "            print(\"You got caught by a wizard.\")\n",
        "        else:\n",
        "            print(\"Invalid choice.\")\n",
        "    elif action == \"swim\":\n",
        "        print(\"Better luck next time.\")\n",
        "    else:\n",
        "        print(\"Invalid choice.\")\n",
        "elif direction == \"right\":\n",
        "    print(\"Better luck next time.\")\n",
        "else:\n",
        "    print(\"Invalid choice.\")"
      ]
    },
    {
      "cell_type": "markdown",
      "id": "b3ca66b4",
      "metadata": {
        "id": "b3ca66b4"
      },
      "source": [
        "PROJECT 4:ROCK PAPER SISSOR"
      ]
    },
    {
      "cell_type": "code",
      "execution_count": null,
      "id": "170e2154",
      "metadata": {
        "id": "170e2154",
        "outputId": "ac038cee-2955-489f-eac0-8b099b456f2f"
      },
      "outputs": [
        {
          "name": "stdout",
          "output_type": "stream",
          "text": [
            "GAME\n",
            "WELCOME TO ROCK PAPER SICSSOR GAME\n",
            "Computer chose: scissor\n",
            "You lose!\n"
          ]
        }
      ],
      "source": [
        "import random\n",
        "print(\"GAME\")\n",
        "print(\"WELCOME TO ROCK PAPER SICSSOR GAME\")\n",
        "choose = input(\"Enter your choice rock, paper, scissor\\n your choice : \")\n",
        "choices = [\"rock\", \"paper\", \"scissor\"]\n",
        "computer_choices = random.choice(choices)\n",
        "print(\"Computer chose:\", computer_choices)\n",
        "if choose == computer_choices:\n",
        "    print(\"It's a tie!\")\n",
        "elif (choose == \"rock\" and computer_choices == \"scissor\") or \\\n",
        "     (choose == \"paper\" and computer_choices == \"rock\") or \\\n",
        "     (choose == \"scissor\" and computer_choices == \"paper\"):\n",
        "    print(\"You win!\")\n",
        "else:\n",
        "    print(\"You lose!\")\n",
        "\n",
        "\n"
      ]
    },
    {
      "cell_type": "markdown",
      "id": "f1f6aa72",
      "metadata": {
        "id": "f1f6aa72"
      },
      "source": [
        "PROJECT 5 :PASSWORD GENERATOR"
      ]
    },
    {
      "cell_type": "code",
      "execution_count": null,
      "id": "dc485127",
      "metadata": {
        "id": "dc485127",
        "outputId": "83d9306f-55d5-4c27-aa1d-e06af819ccf9"
      },
      "outputs": [
        {
          "name": "stdout",
          "output_type": "stream",
          "text": [
            "Your password is: E*0#9Ir6(\n"
          ]
        }
      ],
      "source": [
        "\n",
        "import random\n",
        "\n",
        "letters = \"abcdefghijklmnopqrstuvwxyzABCDEFGHIJKLMNOPQRSTUVWXYZ\"\n",
        "numbers = \"0123456789\"\n",
        "symbols = \"!@#$%^&*()\"\n",
        "\n",
        "nr_letters = int(input(\"How many letters would you like in your password?\\n\"))\n",
        "nr_numbers = int(input(\"How many numbers would you like in your password?\\n\"))\n",
        "nr_symbols = int(input(\"How many symbols would you like in your password?\\n\"))\n",
        "\n",
        "password = []\n",
        "\n",
        "for _ in range(nr_letters):\n",
        "    password.append(random.choice(letters))\n",
        "for _ in range(nr_numbers):\n",
        "    password.append(random.choice(numbers))\n",
        "for _ in range(nr_symbols):\n",
        "    password.append(random.choice(symbols))\n",
        "\n",
        "random.shuffle(password)\n",
        "final_password = ''.join(password)\n",
        "print(f\"Your password is: {final_password}\")\n",
        "\n"
      ]
    },
    {
      "cell_type": "markdown",
      "source": [
        "PROJECT 6 : HANGMAN"
      ],
      "metadata": {
        "id": "HwEsEbZJTdQX"
      },
      "id": "HwEsEbZJTdQX"
    },
    {
      "cell_type": "code",
      "source": [
        "import random\n",
        "words = [\"python\", \"development\", \"hangman\", \"programming\", \"challenge\"]\n",
        "chosen_word = random.choice(words)\n",
        "guessed_letters = []\n",
        "attempts = 6\n",
        "current_progress = ['_' for _ in chosen_word]\n",
        "while attempts > 0 and '_' in current_progress:\n",
        "    print(\"Current progress: \" + ' '.join(current_progress))\n",
        "    guess = input(\"Guess a letter: \").lower()\n",
        "\n",
        "    if guess in guessed_letters:\n",
        "        print(\"You've already guessed that letter.\")\n",
        "    elif guess in chosen_word:\n",
        "        for index, letter in enumerate(chosen_word):\n",
        "            if letter == guess:\n",
        "                current_progress[index] = letter\n",
        "        guessed_letters.append(guess)\n",
        "    else:\n",
        "        attempts -= 1\n",
        "        guessed_letters.append(guess)\n",
        "        print(f\"Wrong guess! You have {attempts} attempts left.\")\n",
        "if '_' not in current_progress:\n",
        "    print(\"Congratulations! You've guessed the word: \" + chosen_word)\n",
        "else:\n",
        "    print(\"Out of attempts! The word was: \" + chosen_word)"
      ],
      "metadata": {
        "colab": {
          "base_uri": "https://localhost:8080/"
        },
        "id": "fNLFubWJSLUJ",
        "outputId": "1c383693-dd60-4180-e5ce-043a02a1d8fd"
      },
      "id": "fNLFubWJSLUJ",
      "execution_count": 7,
      "outputs": [
        {
          "output_type": "stream",
          "name": "stdout",
          "text": [
            "Current progress: _ _ _ _ _ _ _ _ _ _ _\n",
            "Guess a letter: P\n",
            "Current progress: p _ _ _ _ _ _ _ _ _ _\n",
            "Guess a letter: G\n",
            "Current progress: p _ _ g _ _ _ _ _ _ g\n",
            "Guess a letter: M\n",
            "Current progress: p _ _ g _ _ m m _ _ g\n",
            "Guess a letter: R\n",
            "Current progress: p r _ g r _ m m _ _ g\n",
            "Guess a letter: O\n",
            "Current progress: p r o g r _ m m _ _ g\n",
            "Guess a letter: A\n",
            "Current progress: p r o g r a m m _ _ g\n",
            "Guess a letter: N\n",
            "Current progress: p r o g r a m m _ n g\n",
            "Guess a letter: I\n",
            "Congratulations! You've guessed the word: programming\n"
          ]
        }
      ]
    },
    {
      "cell_type": "markdown",
      "source": [
        "PROGRAM 7 :CAESSAR CIPHER"
      ],
      "metadata": {
        "id": "l2na9v-VThol"
      },
      "id": "l2na9v-VThol"
    },
    {
      "cell_type": "code",
      "source": [
        "def caesar_cipher(text, shift, direction):\n",
        "    alphabet = 'abcdefghijklmnopqrstuvwxyz'\n",
        "    cipher_text = ''\n",
        "\n",
        "    # Adjust shift for decoding\n",
        "    if direction == \"decode\":\n",
        "        shift *= -1\n",
        "\n",
        "    for char in text:\n",
        "        if char in alphabet:\n",
        "            position = alphabet.index(char)\n",
        "            new_position = (position + shift) % 26\n",
        "            cipher_text += alphabet[new_position]\n",
        "        else:\n",
        "            cipher_text += char  # Non-alphabet characters remain unchanged\n",
        "\n",
        "    return cipher_text\n",
        "\n",
        "def main():\n",
        "    should_continue = True\n",
        "    while should_continue:\n",
        "        direction = input(\"Type 'encode' to encrypt, type 'decode' to decrypt: \").lower()\n",
        "        text = input(\"Type your message: \").lower()\n",
        "        shift = int(input(\"Type the shift number: \"))\n",
        "\n",
        "        result = caesar_cipher(text, shift, direction)\n",
        "        print(f\"The {direction}d text is: {result}\")\n",
        "\n",
        "        restart = input(\"Do you want to go again? (yes or no): \").lower()\n",
        "        if restart != 'yes':\n",
        "            should_continue = False\n",
        "            print(\"Goodbye!\")\n",
        "\n",
        "if __name__ == \"__main__\":\n",
        "    main()"
      ],
      "metadata": {
        "colab": {
          "base_uri": "https://localhost:8080/"
        },
        "id": "PYZTXIgBTONW",
        "outputId": "fb52d8a7-40d7-42e1-9c0e-b7087103ad57"
      },
      "id": "PYZTXIgBTONW",
      "execution_count": 8,
      "outputs": [
        {
          "output_type": "stream",
          "name": "stdout",
          "text": [
            "Type 'encode' to encrypt, type 'decode' to decrypt: ENCODE\n",
            "Type your message: HI VIKAS\n",
            "Type the shift number: 9\n",
            "The encoded text is: qr ertjb\n",
            "Do you want to go again? (yes or no): NO\n",
            "Goodbye!\n"
          ]
        }
      ]
    },
    {
      "cell_type": "markdown",
      "source": [
        "PROGRAM8:SECRET AUTION"
      ],
      "metadata": {
        "id": "ggcE4pD6T1te"
      },
      "id": "ggcE4pD6T1te"
    },
    {
      "cell_type": "code",
      "source": [
        "from IPython.display import clear_output\n",
        "\n",
        "def bidding():\n",
        "    name = input(\"Enter your name: \")\n",
        "    price = int(input(\"Enter your bid: ₹\"))\n",
        "    return name, price\n",
        "\n",
        "def find_highest_bidder(bidding_record):\n",
        "    highest_bid = 0\n",
        "    winner = \"\"\n",
        "    for bidder in bidding_record:\n",
        "        bid_amount = bidding_record[bidder]\n",
        "        if bid_amount > highest_bid:\n",
        "            highest_bid = bid_amount\n",
        "            winner = bidder\n",
        "    print(f\"\\nThe winner is {winner} with a bid of ₹{highest_bid}\")\n",
        "all_bids = {}\n",
        "more_bidders = 'yes'\n",
        "\n",
        "while more_bidders == 'yes':\n",
        "    name, price = bidding()\n",
        "    all_bids[name] = price\n",
        "    more_bidders = input(\"Are there any other bidders? Type 'yes' or 'no': \").lower()\n",
        "find_highest_bidder(all_bids)"
      ],
      "metadata": {
        "colab": {
          "base_uri": "https://localhost:8080/"
        },
        "id": "94bBQfl0UFR1",
        "outputId": "fba46862-d536-44f6-cce4-7d52ad0f2f27"
      },
      "id": "94bBQfl0UFR1",
      "execution_count": 11,
      "outputs": [
        {
          "output_type": "stream",
          "name": "stdout",
          "text": [
            "Enter your name:  SUMI \n",
            "Enter your bid: ₹ 132\n",
            "Are there any other bidders? Type 'yes' or 'no': YES\n",
            "Enter your name: VIKI\n",
            "Enter your bid: ₹533\n",
            "Are there any other bidders? Type 'yes' or 'no': NO\n",
            "\n",
            "The winner is VIKI with a bid of ₹533\n"
          ]
        }
      ]
    },
    {
      "cell_type": "markdown",
      "source": [],
      "metadata": {
        "id": "7-Fhut8vWhft"
      },
      "id": "7-Fhut8vWhft"
    }
  ],
  "metadata": {
    "kernelspec": {
      "display_name": "base",
      "language": "python",
      "name": "python3"
    },
    "language_info": {
      "codemirror_mode": {
        "name": "ipython",
        "version": 3
      },
      "file_extension": ".py",
      "mimetype": "text/x-python",
      "name": "python",
      "nbconvert_exporter": "python",
      "pygments_lexer": "ipython3",
      "version": "3.12.7"
    },
    "colab": {
      "provenance": [],
      "include_colab_link": true
    }
  },
  "nbformat": 4,
  "nbformat_minor": 5
}