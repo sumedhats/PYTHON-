{
  "cells": [
    {
      "cell_type": "markdown",
      "metadata": {
        "id": "view-in-github",
        "colab_type": "text"
      },
      "source": [
        "<a href=\"https://colab.research.google.com/github/sumedhats/PYTHON-/blob/main/PROJECTS.ipynb\" target=\"_parent\"><img src=\"https://colab.research.google.com/assets/colab-badge.svg\" alt=\"Open In Colab\"/></a>"
      ]
    },
    {
      "cell_type": "markdown",
      "id": "24e13450",
      "metadata": {
        "id": "24e13450"
      },
      "source": [
        "PYTHON PROJECTS"
      ]
    },
    {
      "cell_type": "markdown",
      "id": "a95fc30a",
      "metadata": {
        "id": "a95fc30a"
      },
      "source": [
        " PROJECT 1\n"
      ]
    },
    {
      "cell_type": "code",
      "execution_count": null,
      "id": "19aaed2a",
      "metadata": {
        "id": "19aaed2a",
        "outputId": "26b1198d-edef-459b-a312-2abd38eaea81"
      },
      "outputs": [
        {
          "name": "stdout",
          "output_type": "stream",
          "text": [
            "Welcome to the Band Name Generator\n",
            "Your band name could be BANG RAM\n"
          ]
        }
      ],
      "source": [
        "print(\"Welcome to the Band Name Generator\")\n",
        "city= input(\"what is the name of the city you grew up in? \\n\")\n",
        "pet= input(\"what is the name of your pet? \\n\")\n",
        "print(\"Your band name could be \" + city+ \" \" + pet)"
      ]
    },
    {
      "cell_type": "markdown",
      "id": "0701d2bd",
      "metadata": {
        "id": "0701d2bd"
      },
      "source": [
        "PROJECT 2"
      ]
    },
    {
      "cell_type": "code",
      "execution_count": null,
      "id": "78268986",
      "metadata": {
        "id": "78268986",
        "outputId": "36456bb1-42d6-4d51-81bc-7e31eff8657d"
      },
      "outputs": [
        {
          "name": "stdout",
          "output_type": "stream",
          "text": [
            "Welcome to the tip calculator!\n",
            "Each person should pay: $110.0\n"
          ]
        }
      ],
      "source": [
        "print(\"Welcome to the tip calculator!\")\n",
        "\n",
        "try:\n",
        "    total_bill = float(input(\"What was the total bill? $\"))\n",
        "    tip_percentage = float(input(\"What percentage tip would you like to give? \"))\n",
        "    people_count = int(input(\"How many people to split the bill? \"))\n",
        "\n",
        "    tip_amount = total_bill * (tip_percentage / 100)\n",
        "    total_amount = total_bill + tip_amount\n",
        "    amount_per_person = round(total_amount / people_count, 2)\n",
        "\n",
        "    print(f\"Each person should pay: ${amount_per_person}\")\n",
        "except ValueError:\n",
        "    print(\"Please enter only numbers.\")\n"
      ]
    },
    {
      "cell_type": "markdown",
      "id": "4546b3fc",
      "metadata": {
        "id": "4546b3fc"
      },
      "source": [
        "PROJECT 3"
      ]
    },
    {
      "cell_type": "code",
      "execution_count": null,
      "id": "f2166c8e",
      "metadata": {
        "id": "f2166c8e",
        "outputId": "956566cd-e858-4037-ec6a-46b5762279bd"
      },
      "outputs": [
        {
          "name": "stdout",
          "output_type": "stream",
          "text": [
            "888                                                          \n",
            "888                                                          \n",
            "888                                                          \n",
            "888888888d888 .d88b.  8888b. .d8888b 888  888888d888 .d88b.  \n",
            "888   888P\"  d8P  Y8b    \"88b88K     888  888888P\"  d8P  Y8b \n",
            "888   888    88888888.d888888\"Y8888b.888  888888    88888888 \n",
            "Y88b. 888    Y8b.    888  888     X88Y88b 888888    Y8b.     \n",
            " \"Y888888     \"Y8888 \"Y888888 88888P' \"Y88888888     \"Y8888  \n",
            "Welcome to the treasure land. Your mission is to find the treasure.\n",
            "Better luck next time.\n"
          ]
        }
      ],
      "source": [
        "print('''888\n",
        "888\n",
        "888\n",
        "888888888d888 .d88b.  8888b. .d8888b 888  888888d888 .d88b.\n",
        "888   888P\"  d8P  Y8b    \"88b88K     888  888888P\"  d8P  Y8b\n",
        "888   888    88888888.d888888\"Y8888b.888  888888    88888888\n",
        "Y88b. 888    Y8b.    888  888     X88Y88b 888888    Y8b.\n",
        " \"Y888888     \"Y8888 \"Y888888 88888P' \"Y88888888     \"Y8888  ''')\n",
        "\n",
        "print(\"Welcome to the treasure land. Your mission is to find the treasure.\")\n",
        "direction = input(\"You are at a crossroad. Where do you want to go? Type 'left' or 'right': \").lower()\n",
        "\n",
        "if direction == \"left\":\n",
        "    action = input(\"You chose left. Do you want to swim or wait? Type 'swim' or 'wait': \").lower()\n",
        "    if action == \"wait\":\n",
        "        door = input(\"Great! Now choose a door: red, blue, or yellow: \").lower()\n",
        "        if door == \"red\":\n",
        "            print(\"You got caught by a witch.\")\n",
        "        elif door == \"blue\":\n",
        "            print(\"You won!\")\n",
        "        elif door == \"yellow\":\n",
        "            print(\"You got caught by a wizard.\")\n",
        "        else:\n",
        "            print(\"Invalid choice.\")\n",
        "    elif action == \"swim\":\n",
        "        print(\"Better luck next time.\")\n",
        "    else:\n",
        "        print(\"Invalid choice.\")\n",
        "elif direction == \"right\":\n",
        "    print(\"Better luck next time.\")\n",
        "else:\n",
        "    print(\"Invalid choice.\")"
      ]
    },
    {
      "cell_type": "markdown",
      "id": "b3ca66b4",
      "metadata": {
        "id": "b3ca66b4"
      },
      "source": [
        "PROJECT 4"
      ]
    },
    {
      "cell_type": "code",
      "execution_count": null,
      "id": "170e2154",
      "metadata": {
        "id": "170e2154",
        "outputId": "4ed5bf06-ec78-4e25-c0be-932bf9f2cd8c"
      },
      "outputs": [
        {
          "name": "stdout",
          "output_type": "stream",
          "text": [
            "GAME\n",
            "WELCOME TO ROCK PAPER SICSSOR GAME\n",
            "Computer chose: scissor\n",
            "You lose!\n"
          ]
        }
      ],
      "source": [
        "import random\n",
        "print(\"GAME\")\n",
        "print(\"WELCOME TO ROCK PAPER SICSSOR GAME\")\n",
        "choose = input(\"Enter your choice rock, paper, scissor\\n your choice : \")\n",
        "choices = [\"rock\", \"paper\", \"scissor\"]\n",
        "computer_choices = random.choice(choices)\n",
        "print(\"Computer chose:\", computer_choices)\n",
        "if choose == computer_choices:\n",
        "    print(\"It's a tie!\")\n",
        "elif (choose == \"rock\" and computer_choices == \"scissor\") or \\\n",
        "     (choose == \"paper\" and computer_choices == \"rock\") or \\\n",
        "     (choose == \"scissor\" and computer_choices == \"paper\"):\n",
        "    print(\"You win!\")\n",
        "else:\n",
        "    print(\"You lose!\")\n",
        "\n",
        "\n"
      ]
    },
    {
      "cell_type": "markdown",
      "id": "f1f6aa72",
      "metadata": {
        "id": "f1f6aa72"
      },
      "source": [
        "PROJECT 5"
      ]
    },
    {
      "cell_type": "code",
      "execution_count": null,
      "id": "dc485127",
      "metadata": {
        "id": "dc485127",
        "outputId": "fe1504d3-0aff-4692-dd16-2d379f037f2f"
      },
      "outputs": [
        {
          "name": "stdout",
          "output_type": "stream",
          "text": [
            "Your password is: E*0#9Ir6(\n"
          ]
        }
      ],
      "source": [
        "\n",
        "import random\n",
        "\n",
        "letters = \"abcdefghijklmnopqrstuvwxyzABCDEFGHIJKLMNOPQRSTUVWXYZ\"\n",
        "numbers = \"0123456789\"\n",
        "symbols = \"!@#$%^&*()\"\n",
        "\n",
        "nr_letters = int(input(\"How many letters would you like in your password?\\n\"))\n",
        "nr_numbers = int(input(\"How many numbers would you like in your password?\\n\"))\n",
        "nr_symbols = int(input(\"How many symbols would you like in your password?\\n\"))\n",
        "\n",
        "password = []\n",
        "\n",
        "for _ in range(nr_letters):\n",
        "    password.append(random.choice(letters))\n",
        "for _ in range(nr_numbers):\n",
        "    password.append(random.choice(numbers))\n",
        "for _ in range(nr_symbols):\n",
        "    password.append(random.choice(symbols))\n",
        "\n",
        "random.shuffle(password)\n",
        "final_password = ''.join(password)\n",
        "print(f\"Your password is: {final_password}\")\n",
        "\n"
      ]
    },
    {
      "cell_type": "markdown",
      "source": [
        "PROJECT 6 :ENCRYPT"
      ],
      "metadata": {
        "id": "dL_819GyIpwP"
      },
      "id": "dL_819GyIpwP"
    },
    {
      "cell_type": "code",
      "source": [
        "alpha = ['a', 'b', 'c', 'd', 'e', 'f', 'g', 'h', 'i', 'j', 'k', 'l', 'm', 'n', 'o', 'p', 'q', 'r', 's', 't', 'u', 'v', 'w', 'x', 'y', 'z']\n",
        "\n",
        "direction = input(\"Type 'encode' to encrypt, type 'decode' to decrypt:\\n\").lower()\n",
        "text = input(\"Type your message:\\n\").lower()\n",
        "shift = int(input(\"Type the shift number:\\n\"))\n",
        "\n",
        "def encrypt(original_text, shift_amount):\n",
        "    c_text = \"\"\n",
        "    for letter in original_text:\n",
        "        if letter in alpha:\n",
        "            position = alpha.index(letter)\n",
        "            shift_position = (position + shift_amount) % len(alpha)\n",
        "            c_text += alpha[shift_position]\n",
        "        else:\n",
        "            c_text += letter # Keep characters not in the alphabet\n",
        "    print(f\"The encoded text is {c_text}\")\n",
        "\n",
        "def decrypt(original_text, shift_amount):\n",
        "    c_text = \"\"\n",
        "    for letter in original_text:\n",
        "        if letter in alpha:\n",
        "            position = alpha.index(letter)\n",
        "            shift_position = (position - shift_amount) % len(alpha)\n",
        "            c_text += alpha[shift_position]\n",
        "        else:\n",
        "            c_text += letter # Keep characters not in the alphabet\n",
        "    print(f\"The decoded text is {c_text}\")\n",
        "\n",
        "if direction == 'encode':\n",
        "    encrypt(original_text=text, shift_amount=shift)\n",
        "elif direction == 'decode':\n",
        "    decrypt(original_text=text, shift_amount=shift)\n",
        "else:\n",
        "    print(\"Invalid direction. Please type 'encode' or 'decode'.\")\n",
        ""
      ],
      "metadata": {
        "colab": {
          "base_uri": "https://localhost:8080/"
        },
        "id": "K-7-CbXRIpU6",
        "outputId": "1a498b97-5916-45a6-b028-68c283762e43"
      },
      "id": "K-7-CbXRIpU6",
      "execution_count": 5,
      "outputs": [
        {
          "output_type": "stream",
          "name": "stdout",
          "text": [
            "Type 'encode' to encrypt, type 'decode' to decrypt:\n",
            "ENCODE\n",
            "Type your message:\n",
            "HI SUMI\n",
            "Type the shift number:\n",
            "9\n",
            "The encoded text is qr bdvr\n"
          ]
        }
      ]
    },
    {
      "cell_type": "markdown",
      "source": [
        "PROJECT 7 : FIZZ BUZZ"
      ],
      "metadata": {
        "id": "xlC_AMcDJi1D"
      },
      "id": "xlC_AMcDJi1D"
    },
    {
      "cell_type": "code",
      "source": [
        "for number in range(1,101):\n",
        "    if number % 3 ==0 and number%5 ==0:\n",
        "        print(\"FizzBuzz\")\n",
        "    elif number % 3 == 0:\n",
        "         print(\"Fizz\")\n",
        "    elif number % 5 == 0:\n",
        "        print(\"Buzz\")\n",
        "    else:\n",
        "        print(number)"
      ],
      "metadata": {
        "colab": {
          "base_uri": "https://localhost:8080/"
        },
        "id": "4bxAo_qYJhFX",
        "outputId": "8faf3e50-e0cd-4b3d-f87c-dc2dc82b7695"
      },
      "id": "4bxAo_qYJhFX",
      "execution_count": 6,
      "outputs": [
        {
          "output_type": "stream",
          "name": "stdout",
          "text": [
            "1\n",
            "2\n",
            "Fizz\n",
            "4\n",
            "Buzz\n",
            "Fizz\n",
            "7\n",
            "8\n",
            "Fizz\n",
            "Buzz\n",
            "11\n",
            "Fizz\n",
            "13\n",
            "14\n",
            "FizzBuzz\n",
            "16\n",
            "17\n",
            "Fizz\n",
            "19\n",
            "Buzz\n",
            "Fizz\n",
            "22\n",
            "23\n",
            "Fizz\n",
            "Buzz\n",
            "26\n",
            "Fizz\n",
            "28\n",
            "29\n",
            "FizzBuzz\n",
            "31\n",
            "32\n",
            "Fizz\n",
            "34\n",
            "Buzz\n",
            "Fizz\n",
            "37\n",
            "38\n",
            "Fizz\n",
            "Buzz\n",
            "41\n",
            "Fizz\n",
            "43\n",
            "44\n",
            "FizzBuzz\n",
            "46\n",
            "47\n",
            "Fizz\n",
            "49\n",
            "Buzz\n",
            "Fizz\n",
            "52\n",
            "53\n",
            "Fizz\n",
            "Buzz\n",
            "56\n",
            "Fizz\n",
            "58\n",
            "59\n",
            "FizzBuzz\n",
            "61\n",
            "62\n",
            "Fizz\n",
            "64\n",
            "Buzz\n",
            "Fizz\n",
            "67\n",
            "68\n",
            "Fizz\n",
            "Buzz\n",
            "71\n",
            "Fizz\n",
            "73\n",
            "74\n",
            "FizzBuzz\n",
            "76\n",
            "77\n",
            "Fizz\n",
            "79\n",
            "Buzz\n",
            "Fizz\n",
            "82\n",
            "83\n",
            "Fizz\n",
            "Buzz\n",
            "86\n",
            "Fizz\n",
            "88\n",
            "89\n",
            "FizzBuzz\n",
            "91\n",
            "92\n",
            "Fizz\n",
            "94\n",
            "Buzz\n",
            "Fizz\n",
            "97\n",
            "98\n",
            "Fizz\n",
            "Buzz\n"
          ]
        }
      ]
    },
    {
      "cell_type": "markdown",
      "source": [
        "PROJECT 8 : ROLLAR COASTER"
      ],
      "metadata": {
        "id": "WP5mHbntJnt1"
      },
      "id": "WP5mHbntJnt1"
    },
    {
      "cell_type": "code",
      "source": [
        "print(\"welcome to roller coaster\")\n",
        "height =float(input(\"enter ur height\"))\n",
        "age = float(input(\"enter ur age\"))\n",
        "bill = 0\n",
        "if height > 180:\n",
        "  print(\"Get ready to the entusiasium\")\n",
        "  if age < 12:\n",
        "   bill += 5\n",
        "   print(\"ur ticket is 5$\")\n",
        "  elif age == 12 and age <18:\n",
        "    bill += 7\n",
        "    print (\"ur tichet is 7$\")\n",
        "  elif age > 30 and age < 45:\n",
        "    bill = 0\n",
        "    print(\"u got a free ticket congrats\")\n",
        "  elif age >= 45:\n",
        "    bill += 12\n",
        "    print (\" ur ticket is 12$\")\n",
        "else:\n",
        "  print(\"better luch next time\")\n",
        "photo = input(\" do u need a photo type y for yes and n for no: \")\n",
        "if photo == \"y\":\n",
        "  bill +=3\n",
        "  print(\"your photo\")\n",
        "else :\n",
        "  print(\"no photo\")\n",
        "print(F\"bill is {bill}\")"
      ],
      "metadata": {
        "colab": {
          "base_uri": "https://localhost:8080/"
        },
        "id": "nGMnjFrbJ6RE",
        "outputId": "29f181ab-9e83-410e-bf8d-05edd9a86770"
      },
      "id": "nGMnjFrbJ6RE",
      "execution_count": 7,
      "outputs": [
        {
          "output_type": "stream",
          "name": "stdout",
          "text": [
            "welcome to roller coaster\n",
            "enter ur height13.5\n",
            "enter ur age23\n",
            "better luch next time\n",
            " do u need a photo type y for yes and n for no: N\n",
            "no photo\n",
            "bill is 0\n"
          ]
        }
      ]
    },
    {
      "cell_type": "markdown",
      "source": [
        "PROJECT 9 : BMI CALCULATOR\n"
      ],
      "metadata": {
        "id": "afS207FKKDmO"
      },
      "id": "afS207FKKDmO"
    },
    {
      "cell_type": "code",
      "source": [
        "height = 1.65\n",
        "weight = 84\n",
        "bmi = weight/(height**2)\n",
        "print(bmi)\n",
        "print(int(bmi))\n",
        "print(round(bmi))"
      ],
      "metadata": {
        "colab": {
          "base_uri": "https://localhost:8080/"
        },
        "id": "ro--EwNJKSEy",
        "outputId": "a72c03d4-5f1f-4c94-87ae-866bbd730160"
      },
      "id": "ro--EwNJKSEy",
      "execution_count": 8,
      "outputs": [
        {
          "output_type": "stream",
          "name": "stdout",
          "text": [
            "30.85399449035813\n",
            "30\n",
            "31\n"
          ]
        }
      ]
    },
    {
      "cell_type": "markdown",
      "source": [],
      "metadata": {
        "id": "VJB83S5HKYAu"
      },
      "id": "VJB83S5HKYAu"
    }
  ],
  "metadata": {
    "kernelspec": {
      "display_name": "base",
      "language": "python",
      "name": "python3"
    },
    "language_info": {
      "codemirror_mode": {
        "name": "ipython",
        "version": 3
      },
      "file_extension": ".py",
      "mimetype": "text/x-python",
      "name": "python",
      "nbconvert_exporter": "python",
      "pygments_lexer": "ipython3",
      "version": "3.12.7"
    },
    "colab": {
      "provenance": [],
      "include_colab_link": true
    }
  },
  "nbformat": 4,
  "nbformat_minor": 5
}