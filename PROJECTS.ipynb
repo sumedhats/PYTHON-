{
  "cells": [
    {
      "cell_type": "markdown",
      "metadata": {
        "id": "view-in-github",
        "colab_type": "text"
      },
      "source": [
        "<a href=\"https://colab.research.google.com/github/sumedhats/PYTHON-/blob/main/PROJECTS.ipynb\" target=\"_parent\"><img src=\"https://colab.research.google.com/assets/colab-badge.svg\" alt=\"Open In Colab\"/></a>"
      ]
    },
    {
      "cell_type": "markdown",
      "id": "24e13450",
      "metadata": {
        "id": "24e13450"
      },
      "source": [
        "PYTHON PROJECTS"
      ]
    },
    {
      "cell_type": "markdown",
      "id": "a95fc30a",
      "metadata": {
        "id": "a95fc30a"
      },
      "source": [
        " PROJECT 1\n"
      ]
    },
    {
      "cell_type": "code",
      "execution_count": null,
      "id": "19aaed2a",
      "metadata": {
        "id": "19aaed2a",
        "outputId": "40a0ca08-cc60-464f-8b98-356a0cc0c88e"
      },
      "outputs": [
        {
          "name": "stdout",
          "output_type": "stream",
          "text": [
            "Welcome to the Band Name Generator\n",
            "Your band name could be BANG RAM\n"
          ]
        }
      ],
      "source": [
        "print(\"Welcome to the Band Name Generator\")\n",
        "city= input(\"what is the name of the city you grew up in? \\n\")\n",
        "pet= input(\"what is the name of your pet? \\n\")\n",
        "print(\"Your band name could be \" + city+ \" \" + pet)"
      ]
    },
    {
      "cell_type": "markdown",
      "id": "0701d2bd",
      "metadata": {
        "id": "0701d2bd"
      },
      "source": [
        "PROJECT 2"
      ]
    },
    {
      "cell_type": "code",
      "execution_count": null,
      "id": "78268986",
      "metadata": {
        "id": "78268986",
        "outputId": "29fe6c0b-3cf0-455d-ffc8-aecfb5a85597"
      },
      "outputs": [
        {
          "name": "stdout",
          "output_type": "stream",
          "text": [
            "Welcome to the tip calculator!\n",
            "Each person should pay: $110.0\n"
          ]
        }
      ],
      "source": [
        "print(\"Welcome to the tip calculator!\")\n",
        "\n",
        "try:\n",
        "    total_bill = float(input(\"What was the total bill? $\"))\n",
        "    tip_percentage = float(input(\"What percentage tip would you like to give? \"))\n",
        "    people_count = int(input(\"How many people to split the bill? \"))\n",
        "\n",
        "    tip_amount = total_bill * (tip_percentage / 100)\n",
        "    total_amount = total_bill + tip_amount\n",
        "    amount_per_person = round(total_amount / people_count, 2)\n",
        "\n",
        "    print(f\"Each person should pay: ${amount_per_person}\")\n",
        "except ValueError:\n",
        "    print(\"Please enter only numbers.\")\n"
      ]
    },
    {
      "cell_type": "markdown",
      "id": "4546b3fc",
      "metadata": {
        "id": "4546b3fc"
      },
      "source": [
        "PROJECT 3"
      ]
    },
    {
      "cell_type": "code",
      "execution_count": null,
      "id": "f2166c8e",
      "metadata": {
        "id": "f2166c8e",
        "outputId": "f67aec91-5228-476f-86b6-71369365353c"
      },
      "outputs": [
        {
          "name": "stdout",
          "output_type": "stream",
          "text": [
            "888                                                          \n",
            "888                                                          \n",
            "888                                                          \n",
            "888888888d888 .d88b.  8888b. .d8888b 888  888888d888 .d88b.  \n",
            "888   888P\"  d8P  Y8b    \"88b88K     888  888888P\"  d8P  Y8b \n",
            "888   888    88888888.d888888\"Y8888b.888  888888    88888888 \n",
            "Y88b. 888    Y8b.    888  888     X88Y88b 888888    Y8b.     \n",
            " \"Y888888     \"Y8888 \"Y888888 88888P' \"Y88888888     \"Y8888  \n",
            "Welcome to the treasure land. Your mission is to find the treasure.\n",
            "Better luck next time.\n"
          ]
        }
      ],
      "source": [
        "print('''888\n",
        "888\n",
        "888\n",
        "888888888d888 .d88b.  8888b. .d8888b 888  888888d888 .d88b.\n",
        "888   888P\"  d8P  Y8b    \"88b88K     888  888888P\"  d8P  Y8b\n",
        "888   888    88888888.d888888\"Y8888b.888  888888    88888888\n",
        "Y88b. 888    Y8b.    888  888     X88Y88b 888888    Y8b.\n",
        " \"Y888888     \"Y8888 \"Y888888 88888P' \"Y88888888     \"Y8888  ''')\n",
        "\n",
        "print(\"Welcome to the treasure land. Your mission is to find the treasure.\")\n",
        "direction = input(\"You are at a crossroad. Where do you want to go? Type 'left' or 'right': \").lower()\n",
        "\n",
        "if direction == \"left\":\n",
        "    action = input(\"You chose left. Do you want to swim or wait? Type 'swim' or 'wait': \").lower()\n",
        "    if action == \"wait\":\n",
        "        door = input(\"Great! Now choose a door: red, blue, or yellow: \").lower()\n",
        "        if door == \"red\":\n",
        "            print(\"You got caught by a witch.\")\n",
        "        elif door == \"blue\":\n",
        "            print(\"You won!\")\n",
        "        elif door == \"yellow\":\n",
        "            print(\"You got caught by a wizard.\")\n",
        "        else:\n",
        "            print(\"Invalid choice.\")\n",
        "    elif action == \"swim\":\n",
        "        print(\"Better luck next time.\")\n",
        "    else:\n",
        "        print(\"Invalid choice.\")\n",
        "elif direction == \"right\":\n",
        "    print(\"Better luck next time.\")\n",
        "else:\n",
        "    print(\"Invalid choice.\")"
      ]
    },
    {
      "cell_type": "markdown",
      "id": "b3ca66b4",
      "metadata": {
        "id": "b3ca66b4"
      },
      "source": [
        "PROJECT 4"
      ]
    },
    {
      "cell_type": "code",
      "execution_count": null,
      "id": "170e2154",
      "metadata": {
        "id": "170e2154",
        "outputId": "192d7a4b-43da-442e-a3e7-004ca70dc15e"
      },
      "outputs": [
        {
          "name": "stdout",
          "output_type": "stream",
          "text": [
            "GAME\n",
            "WELCOME TO ROCK PAPER SICSSOR GAME\n",
            "Computer chose: scissor\n",
            "You lose!\n"
          ]
        }
      ],
      "source": [
        "import random\n",
        "print(\"GAME\")\n",
        "print(\"WELCOME TO ROCK PAPER SICSSOR GAME\")\n",
        "choose = input(\"Enter your choice rock, paper, scissor\\n your choice : \")\n",
        "choices = [\"rock\", \"paper\", \"scissor\"]\n",
        "computer_choices = random.choice(choices)\n",
        "print(\"Computer chose:\", computer_choices)\n",
        "if choose == computer_choices:\n",
        "    print(\"It's a tie!\")\n",
        "elif (choose == \"rock\" and computer_choices == \"scissor\") or \\\n",
        "     (choose == \"paper\" and computer_choices == \"rock\") or \\\n",
        "     (choose == \"scissor\" and computer_choices == \"paper\"):\n",
        "    print(\"You win!\")\n",
        "else:\n",
        "    print(\"You lose!\")\n",
        "\n",
        "\n"
      ]
    },
    {
      "cell_type": "markdown",
      "id": "f1f6aa72",
      "metadata": {
        "id": "f1f6aa72"
      },
      "source": [
        "PROJECT 5"
      ]
    },
    {
      "cell_type": "code",
      "execution_count": null,
      "id": "dc485127",
      "metadata": {
        "id": "dc485127",
        "outputId": "8f9e8d5e-0768-4c56-a71c-8c96ba2f9528"
      },
      "outputs": [
        {
          "name": "stdout",
          "output_type": "stream",
          "text": [
            "Your password is: E*0#9Ir6(\n"
          ]
        }
      ],
      "source": [
        "\n",
        "import random\n",
        "\n",
        "letters = \"abcdefghijklmnopqrstuvwxyzABCDEFGHIJKLMNOPQRSTUVWXYZ\"\n",
        "numbers = \"0123456789\"\n",
        "symbols = \"!@#$%^&*()\"\n",
        "\n",
        "nr_letters = int(input(\"How many letters would you like in your password?\\n\"))\n",
        "nr_numbers = int(input(\"How many numbers would you like in your password?\\n\"))\n",
        "nr_symbols = int(input(\"How many symbols would you like in your password?\\n\"))\n",
        "\n",
        "password = []\n",
        "\n",
        "for _ in range(nr_letters):\n",
        "    password.append(random.choice(letters))\n",
        "for _ in range(nr_numbers):\n",
        "    password.append(random.choice(numbers))\n",
        "for _ in range(nr_symbols):\n",
        "    password.append(random.choice(symbols))\n",
        "\n",
        "random.shuffle(password)\n",
        "final_password = ''.join(password)\n",
        "print(f\"Your password is: {final_password}\")\n",
        "\n"
      ]
    },
    {
      "cell_type": "markdown",
      "source": [
        "PROJECT 6 : CALCULATOR"
      ],
      "metadata": {
        "id": "-HaxFG5Nnwk3"
      },
      "id": "-HaxFG5Nnwk3"
    },
    {
      "cell_type": "code",
      "source": [
        "def calc():\n",
        "  no1 = int(input(\"what is first no\"))\n",
        "  operation = input(\"pic the operation(*,/,-,+):\")\n",
        "  no2 = int(input(\"what is second no\"))\n",
        "  result = calculate(no1, no2, operation)\n",
        "  print(result)\n",
        "  return result\n",
        "def calculate(no1, no2, operation):\n",
        "  if operation == \"*\":\n",
        "    return no1 * no2\n",
        "  elif operation == \"/\":\n",
        "    return no1 / no2\n",
        "  elif operation == \"-\":\n",
        "    return no1 - no2\n",
        "  else:\n",
        "    return no1 + no2\n",
        "def cont(previous_result):\n",
        "  cont_choice = input(f\"type 'y' to continue calculation with {previous_result} or 'n' to start a new calculation 'z' to end : \")\n",
        "  if cont_choice.lower() == \"y\":\n",
        "    new_result = calc()\n",
        "    cont(new_result)\n",
        "    calc()\n",
        "  elif cont_choice.lower() ==\"n\":\n",
        "      calc()\n",
        "      hip=input(\"'c' for completed 'h' for continue\")\n",
        "      if hip == \"c\":\n",
        "        print(\"completed\")\n",
        "      elif hip == \"h\":\n",
        "        calc()\n",
        "  else:\n",
        "    print(\"great\")\n",
        "initial_result = calc()\n",
        "cont(initial_result)"
      ],
      "metadata": {
        "colab": {
          "base_uri": "https://localhost:8080/"
        },
        "id": "6uflRwiPS5N7",
        "outputId": "6be37722-489d-4e0b-b194-fc99c06f35f4"
      },
      "id": "6uflRwiPS5N7",
      "execution_count": null,
      "outputs": [
        {
          "output_type": "stream",
          "name": "stdout",
          "text": [
            "what is first no34\n",
            "pic the operation(*,/,-,+):/\n",
            "what is second no4\n",
            "8.5\n",
            "type 'y' to continue calculation with 8.5 or 'n' to start a new calculation 'z' to end : y\n",
            "what is first no34\n",
            "pic the operation(*,/,-,+):+\n",
            "what is second no6\n",
            "40\n",
            "type 'y' to continue calculation with 40 or 'n' to start a new calculation 'z' to end : n\n",
            "what is first no45\n",
            "pic the operation(*,/,-,+):/\n",
            "what is second no5\n",
            "9.0\n",
            "'c' for completed 'h' for continueh\n",
            "what is first no23\n",
            "pic the operation(*,/,-,+):+\n",
            "what is second no23\n",
            "46\n",
            "what is first no23\n",
            "pic the operation(*,/,-,+):+\n",
            "what is second no56\n",
            "79\n"
          ]
        }
      ]
    },
    {
      "cell_type": "markdown",
      "source": [
        "PROJECT 7: BLACK JACK"
      ],
      "metadata": {
        "id": "SDMKCtgjn0-4"
      },
      "id": "SDMKCtgjn0-4"
    },
    {
      "cell_type": "code",
      "source": [
        "import random\n",
        "def blackjack():\n",
        " game = input(\"Do you want to play the game of Blackjack? Type 'y' for yes and 'n' for no: \")\n",
        " if game.lower() == 'y':\n",
        "    cards = {\"1\": 1, \"2\": 2, \"3\": 3, \"4\": 4, \"5\": 5, \"6\": 6, \"7\": 7, \"8\": 8, \"9\": 9, \"k\": 10, \"q\": 10, \"j\": 10, \"a\": 10}\n",
        "    card1 = random.choice(list(cards.keys()))\n",
        "    card2 = random.choice(list(cards.keys()))\n",
        "    computer_choice1 = random.choice(list(cards.keys()))\n",
        "    computer_choice2 = random.choice(list(cards.keys()))\n",
        "    Computer_choice = computer_choice1 , computer_choice2\n",
        "    print(f\"Computer choice:{Computer_choice}\")\n",
        "    print(f\"Your cards are: {card1} and {card2}\")\n",
        "    Your_value = cards[card1] + cards[card2]\n",
        "    comp_value = cards[computer_choice1]+cards[computer_choice2]\n",
        "    print(f\"Computer choice value:{comp_value}\")\n",
        "    print(f\"Total value: {Your_value}\")\n",
        "    if Your_value == comp_value:\n",
        "        print(\"It is a tie\")\n",
        "    elif Your_value > comp_value:\n",
        "        print(\"You won\")\n",
        "    else:\n",
        "        print(\"Computer win\")\n",
        " else:\n",
        "    print(\"Okay, maybe next time!\")\n",
        " answer = input(\"Do you wanna continue the game type 'y' orlese type 'n':\") # Moved this line outside the else block\n",
        " if answer.lower() == 'y':\n",
        "   blackjack()\n",
        " else:\n",
        "  print(\"End the game\")\n",
        "\n",
        "\n",
        "blackjack()"
      ],
      "metadata": {
        "colab": {
          "base_uri": "https://localhost:8080/"
        },
        "id": "ICqLxzhBn6P3",
        "outputId": "1bf877cc-c579-4ae1-925d-5a4047b80e7d"
      },
      "id": "ICqLxzhBn6P3",
      "execution_count": 25,
      "outputs": [
        {
          "output_type": "stream",
          "name": "stdout",
          "text": [
            "Do you want to play the game of Blackjack? Type 'y' for yes and 'n' for no: y\n",
            "Computer choice:('4', '5')\n",
            "Your cards are: 8 and 5\n",
            "Computer choice value:9\n",
            "Total value: 13\n",
            "You won\n",
            "Do you wanna continue the game type 'y' orlese type 'n':n\n",
            "End the game\n"
          ]
        }
      ]
    }
  ],
  "metadata": {
    "kernelspec": {
      "display_name": "base",
      "language": "python",
      "name": "python3"
    },
    "language_info": {
      "codemirror_mode": {
        "name": "ipython",
        "version": 3
      },
      "file_extension": ".py",
      "mimetype": "text/x-python",
      "name": "python",
      "nbconvert_exporter": "python",
      "pygments_lexer": "ipython3",
      "version": "3.12.7"
    },
    "colab": {
      "provenance": [],
      "include_colab_link": true
    }
  },
  "nbformat": 4,
  "nbformat_minor": 5
}